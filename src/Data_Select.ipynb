{
 "cells": [
  {
   "cell_type": "code",
   "execution_count": null,
   "metadata": {},
   "outputs": [],
   "source": [
    "import numpy as np\n",
    "import pandas as pd\n",
    "import plotly.graph_objs as go\n",
    "from plotly.offline import init_notebook_mode, iplot\n",
    "from ipywidgets import widgets\n",
    "import plotly.express as px \n",
    "from plotly.subplots import make_subplots\n",
    "import statsmodels.api as sm\n",
    "import matplotlib.pyplot as plt\n",
    "import scipy.stats as stats\n",
    "from statsmodels.tsa.seasonal import seasonal_decompose\n",
    "import pylab"
   ]
  },
  {
   "cell_type": "code",
   "execution_count": null,
   "metadata": {},
   "outputs": [],
   "source": [
    "df_pp = pd.read_csv('/home/deaddemocracy/Documents/Major_Project/Extract_Feb18_28_1PM/sensor1/sensor1_pp.csv', decimal = ',',index_col = 0)"
   ]
  },
  {
   "cell_type": "code",
   "execution_count": null,
   "metadata": {},
   "outputs": [],
   "source": [
    "df_pp.head()"
   ]
  },
  {
   "cell_type": "code",
   "execution_count": null,
   "metadata": {},
   "outputs": [],
   "source": [
    "df_pp.index"
   ]
  },
  {
   "cell_type": "code",
   "execution_count": null,
   "metadata": {},
   "outputs": [],
   "source": [
    "df_pp.index = pd.to_datetime(df_pp.index)\n",
    "type(df_pp.index)"
   ]
  },
  {
   "cell_type": "markdown",
   "metadata": {},
   "source": [
    "### Peak Traffic Hour (Feb 23, 11:00 PM to 11:10 PM)"
   ]
  },
  {
   "cell_type": "code",
   "execution_count": null,
   "metadata": {},
   "outputs": [],
   "source": [
    "df_pp_peak_hour = df_pp[(df_pp.index > '2020-02-23 11:00:00.960') & (df_pp.index < '2020-02-23 11:10:00.960')]\n",
    "df_pp_peak_hour.to_csv('peak_hour.csv')"
   ]
  },
  {
   "cell_type": "markdown",
   "metadata": {},
   "source": [
    "### No Traffic Hour (Feb24, 02:20 AM to 02:30 AM)"
   ]
  },
  {
   "cell_type": "code",
   "execution_count": null,
   "metadata": {},
   "outputs": [],
   "source": [
    "df_pp_no_hour = df_pp[(df_pp.index > '2020-02-24 02:20:00.960') & (df_pp.index < '2020-02-24 02:30:00.960')]\n",
    "df_pp_no_hour.to_csv('notraffic_hour.csv')"
   ]
  },
  {
   "cell_type": "markdown",
   "metadata": {},
   "source": [
    "### Low Traffic Hour (Feb23, 07:20 AM to 07:30 AM)"
   ]
  },
  {
   "cell_type": "code",
   "execution_count": null,
   "metadata": {},
   "outputs": [],
   "source": [
    "df_pp_low_hour = df_pp[(df_pp.index > '2020-02-23 07:20:00.960') & (df_pp.index < '2020-02-23 07:30:00.960')]\n",
    "df_pp_low_hour.to_csv('lowtraffic_hour.csv')"
   ]
  },
  {
   "cell_type": "markdown",
   "metadata": {},
   "source": [
    "# Time Series Plot\n"
   ]
  },
  {
   "cell_type": "code",
   "execution_count": null,
   "metadata": {},
   "outputs": [],
   "source": [
    "def time_series_plot(series,x_title,y_title, plot_title):\n",
    "    yrange = [series.values.min(),series.values.max()]\n",
    "    bridge_data_1m = go.Scatter(x = series.index, y = series.values)\n",
    "    layout = go.Layout(yaxis=dict(range=yrange),xaxis_title=x_title, yaxis_title=y_title, title = plot_title)\n",
    "    fig = go.Figure(data = bridge_data_1m,layout=layout)\n",
    "    iplot(fig)\n"
   ]
  },
  {
   "cell_type": "markdown",
   "metadata": {},
   "source": [
    "### Peak Hour Plot"
   ]
  },
  {
   "cell_type": "code",
   "execution_count": null,
   "metadata": {},
   "outputs": [],
   "source": [
    "#Peak Hour Plot - az(g)\n",
    "time_series_plot(df_pp_peak_hour['az(g)'],'Time','az(g)', 'Peak Hour az(g)')"
   ]
  },
  {
   "cell_type": "code",
   "execution_count": null,
   "metadata": {},
   "outputs": [],
   "source": [
    "#Peak Hour Plot - ax(g)\n",
    "time_series_plot(df_pp_peak_hour['ax(g)'],'Time','ax(g)', 'Peak Hour ax(g)')\n"
   ]
  },
  {
   "cell_type": "code",
   "execution_count": null,
   "metadata": {},
   "outputs": [],
   "source": [
    "#Peak Hour Plot - ay(g)\n",
    "time_series_plot(df_pp_peak_hour['ay(g)'],'Time','ay(g)', 'Peak Hour ay(g)')\n"
   ]
  },
  {
   "cell_type": "code",
   "execution_count": null,
   "metadata": {},
   "outputs": [],
   "source": [
    "#Peak Hour Plot - AngleZ(deg)\n",
    "time_series_plot(df_pp_peak_hour['AngleZ(deg)'],'Time','AngleZ(deg)','Peak Hour AngleZ')"
   ]
  },
  {
   "cell_type": "code",
   "execution_count": null,
   "metadata": {},
   "outputs": [],
   "source": [
    "#Peak Hour Plot - AngleX(deg)\n",
    "time_series_plot(df_pp_peak_hour['AngleX(deg)'],'Time','AngleX(deg)','Peak Hour AngleX(deg)')"
   ]
  },
  {
   "cell_type": "code",
   "execution_count": null,
   "metadata": {},
   "outputs": [],
   "source": [
    "#Peak Hour Plot - AngleY(deg)\n",
    "time_series_plot(df_pp_peak_hour['AngleY(deg)'],'Time','AngleY(deg)', 'Peak Hour AngleY(deg)')"
   ]
  },
  {
   "cell_type": "markdown",
   "metadata": {},
   "source": [
    "### No Traffic Hour Plot"
   ]
  },
  {
   "cell_type": "code",
   "execution_count": null,
   "metadata": {},
   "outputs": [],
   "source": [
    "#No Traffic Hour Plot - az(g)\n",
    "time_series_plot(df_pp_no_hour['az(g)'],'Time','az(g)', 'No Traffic az(g)')"
   ]
  },
  {
   "cell_type": "code",
   "execution_count": null,
   "metadata": {},
   "outputs": [],
   "source": [
    "#No Traffic Hour Plot - ax(g)\n",
    "time_series_plot(df_pp_no_hour['ax(g)'],'Time','ax(g)', 'No Traffic ax(g)')\n"
   ]
  },
  {
   "cell_type": "code",
   "execution_count": null,
   "metadata": {},
   "outputs": [],
   "source": [
    "#No Traffic Hour Plot - ay(g)\n",
    "time_series_plot(df_pp_no_hour['ay(g)'],'Time','ay(g)', 'No Traffic ay(g)')\n"
   ]
  },
  {
   "cell_type": "code",
   "execution_count": null,
   "metadata": {},
   "outputs": [],
   "source": [
    "#No Traffic Hour Plot - AngleZ(deg)\n",
    "time_series_plot(df_pp_no_hour['AngleZ(deg)'],'Time','AngleZ(deg)', 'No Traffic AngleZ(deg)')"
   ]
  },
  {
   "cell_type": "code",
   "execution_count": null,
   "metadata": {},
   "outputs": [],
   "source": [
    "#No Traffic Hour Plot - AngleX(deg)\n",
    "time_series_plot(df_pp_no_hour['AngleX(deg)'],'Time','AngleX(deg)', 'No Traffic AngleX(deg)')"
   ]
  },
  {
   "cell_type": "code",
   "execution_count": null,
   "metadata": {},
   "outputs": [],
   "source": [
    "#No Traffic Hour - AngleY(deg)\n",
    "time_series_plot(df_pp_no_hour['AngleY(deg)'],'Time','AngleY(deg)', 'No Traffic AngleY(deg)')"
   ]
  },
  {
   "cell_type": "markdown",
   "metadata": {},
   "source": [
    "### Low Traffic Hour "
   ]
  },
  {
   "cell_type": "code",
   "execution_count": null,
   "metadata": {},
   "outputs": [],
   "source": [
    "#Low Traffic Hour Plot - az(g)\n",
    "time_series_plot(df_pp_low_hour['az(g)'],'Time','az(g)', 'Low Traffic az(g)')"
   ]
  },
  {
   "cell_type": "code",
   "execution_count": null,
   "metadata": {},
   "outputs": [],
   "source": [
    "#Low Traffic Hour Plot - ax(g)\n",
    "time_series_plot(df_pp_low_hour['ax(g)'],'Time','ax(g)','Low Traffic ax(g)')\n"
   ]
  },
  {
   "cell_type": "code",
   "execution_count": null,
   "metadata": {},
   "outputs": [],
   "source": [
    "#Low Traffic Hour Plot - ay(g)\n",
    "time_series_plot(df_pp_low_hour['ay(g)'],'Time','ay(g)', 'Low Traffic ay(g)')\n"
   ]
  },
  {
   "cell_type": "code",
   "execution_count": null,
   "metadata": {},
   "outputs": [],
   "source": [
    "#Low Traffic Hour Plot - AngleZ(deg)\n",
    "time_series_plot(df_pp_low_hour['AngleZ(deg)'],'Time','AngleZ(deg)', 'Low Traffic AngleZ(deg)')"
   ]
  },
  {
   "cell_type": "code",
   "execution_count": null,
   "metadata": {},
   "outputs": [],
   "source": [
    "#Low Traffic Hour Plot - AngleX(deg)\n",
    "time_series_plot(df_pp_low_hour['AngleX(deg)'],'Time','AngleX(deg)', 'Low Traffic AngleX(deg)')"
   ]
  },
  {
   "cell_type": "code",
   "execution_count": null,
   "metadata": {},
   "outputs": [],
   "source": [
    "#Low Traffic Hour - AngleY(deg)\n",
    "time_series_plot(df_pp_low_hour['AngleY(deg)'],'Time','AngleY(deg)', 'Low Traffic AngleY(deg)')"
   ]
  },
  {
   "cell_type": "markdown",
   "metadata": {},
   "source": [
    "## Sensor Output = 5 Hz (5 samples per second, 0.2s period)"
   ]
  },
  {
   "cell_type": "code",
   "execution_count": null,
   "metadata": {},
   "outputs": [],
   "source": []
  }
 ],
 "metadata": {
  "kernelspec": {
   "display_name": "Python 3",
   "language": "python",
   "name": "python3"
  },
  "language_info": {
   "codemirror_mode": {
    "name": "ipython",
    "version": 3
   },
   "file_extension": ".py",
   "mimetype": "text/x-python",
   "name": "python",
   "nbconvert_exporter": "python",
   "pygments_lexer": "ipython3",
   "version": "3.7.4"
  }
 },
 "nbformat": 4,
 "nbformat_minor": 2
}
