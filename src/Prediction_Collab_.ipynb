{
 "cells": [
  {
   "cell_type": "code",
   "execution_count": null,
   "metadata": {
    "colab": {
     "base_uri": "https://localhost:8080/",
     "height": 35
    },
    "colab_type": "code",
    "id": "HE-nRWPVJu_M",
    "outputId": "9d151b12-ff28-4140-8c34-3dfd0aba4892"
   },
   "outputs": [],
   "source": [
    "%tensorflow_version 2.x\n"
   ]
  },
  {
   "cell_type": "code",
   "execution_count": null,
   "metadata": {
    "colab": {},
    "colab_type": "code",
    "id": "U5Y52KXKJLY2"
   },
   "outputs": [],
   "source": [
    "import pandas as pd \n",
    "import numpy as np\n",
    "import tensorflow as tf\n",
    "from tensorflow import keras\n",
    "import matplotlib.pyplot as plt\n",
    "# import requests\n",
    "from io import StringIO\n",
    "from statsmodels.tsa.arima_model import ARIMA\n",
    "from statsmodels.tsa.seasonal import seasonal_decompose\n",
    "# from chart_studio.plotly import plot_mpl\n",
    "# import cufflinks as cf\n",
    "import plotly.graph_objs as go\n",
    "from plotly.subplots import make_subplots\n",
    "from scipy import stats\n",
    "# import seaborn as sns\n"
   ]
  },
  {
   "cell_type": "markdown",
   "metadata": {
    "colab_type": "text",
    "id": "qsPu-ZTQ6SDg"
   },
   "source": [
    "Authorization Code = 4/wwGLqpIPtyEx8LBrxVOPkkOBWzz7AjSVdkXV6xEyTjmrumQ9w1Rpd3c"
   ]
  },
  {
   "cell_type": "code",
   "execution_count": null,
   "metadata": {
    "colab": {
     "base_uri": "https://localhost:8080/",
     "height": 127
    },
    "colab_type": "code",
    "id": "0qBiwG91K4yU",
    "outputId": "a4134c3f-0b22-4259-fbb5-7956ffc96e57"
   },
   "outputs": [],
   "source": [
    "# from google.colab import drive\n",
    "# drive.mount('/content/drive', force_remount=True)"
   ]
  },
  {
   "cell_type": "code",
   "execution_count": null,
   "metadata": {
    "colab": {
     "base_uri": "https://localhost:8080/",
     "height": 35
    },
    "colab_type": "code",
    "id": "V2q82GkZdfzf",
    "outputId": "71d7910c-ed2a-4007-c495-13e3acea9c4b"
   },
   "outputs": [],
   "source": [
    "cd drive/"
   ]
  },
  {
   "cell_type": "code",
   "execution_count": null,
   "metadata": {
    "colab": {
     "base_uri": "https://localhost:8080/",
     "height": 35
    },
    "colab_type": "code",
    "id": "pJHacCZmexMC",
    "outputId": "4b7c03a9-95fa-417b-b779-00685f063e27"
   },
   "outputs": [],
   "source": [
    "pwd"
   ]
  },
  {
   "cell_type": "code",
   "execution_count": null,
   "metadata": {
    "colab": {
     "base_uri": "https://localhost:8080/",
     "height": 35
    },
    "colab_type": "code",
    "id": "CisRt4TqfQ6X",
    "outputId": "c7ffc9a9-3b8e-4b36-ce68-65156ee9ed65"
   },
   "outputs": [],
   "source": [
    "cd My  Drive\n"
   ]
  },
  {
   "cell_type": "code",
   "execution_count": null,
   "metadata": {
    "colab": {
     "base_uri": "https://localhost:8080/",
     "height": 35
    },
    "colab_type": "code",
    "id": "vpdQxx-rPg4m",
    "outputId": "c9c9ce52-2a06-4527-a3da-75355225af0b"
   },
   "outputs": [],
   "source": [
    "cd Major_Project/src/"
   ]
  },
  {
   "cell_type": "code",
   "execution_count": null,
   "metadata": {
    "colab": {},
    "colab_type": "code",
    "id": "A5QzCyxEOL-L"
   },
   "outputs": [],
   "source": [
    "# from google.colab import files\n",
    "# uploaded = files.upload()"
   ]
  },
  {
   "cell_type": "code",
   "execution_count": null,
   "metadata": {
    "colab": {},
    "colab_type": "code",
    "id": "qHRvya41JkHw"
   },
   "outputs": [],
   "source": [
    "df = pd.read_csv('/home/deaddemocracy/Documents/Major_Project/Extract_Feb18_28_1PM/Sensor1/sensor1_pp.csv', index_col = 0)"
   ]
  },
  {
   "cell_type": "code",
   "execution_count": null,
   "metadata": {
    "colab": {
     "base_uri": "https://localhost:8080/",
     "height": 235
    },
    "colab_type": "code",
    "id": "0h8j9oAXJLZh",
    "outputId": "406dcb92-b0b0-4574-c36d-eb16ee4e672b"
   },
   "outputs": [],
   "source": [
    "df.head()\n"
   ]
  },
  {
   "cell_type": "code",
   "execution_count": null,
   "metadata": {
    "colab": {},
    "colab_type": "code",
    "id": "rXSlDPz0kzu7"
   },
   "outputs": [],
   "source": [
    "df.index = pd.to_datetime(df.index)"
   ]
  },
  {
   "cell_type": "code",
   "execution_count": null,
   "metadata": {
    "colab": {},
    "colab_type": "code",
    "id": "sejuZX5DJLZu"
   },
   "outputs": [],
   "source": [
    "ax_data = df['az(g)'].resample('1min').mean()"
   ]
  },
  {
   "cell_type": "code",
   "execution_count": null,
   "metadata": {
    "colab": {
     "base_uri": "https://localhost:8080/",
     "height": 35
    },
    "colab_type": "code",
    "id": "mB8LWHvtJLZ2",
    "outputId": "6647378d-10c7-4797-9f3e-7d2a63043bbb"
   },
   "outputs": [],
   "source": [
    "type(ax_data)"
   ]
  },
  {
   "cell_type": "code",
   "execution_count": null,
   "metadata": {
    "colab": {},
    "colab_type": "code",
    "id": "wAQRResJJLZ9"
   },
   "outputs": [],
   "source": [
    "train_size = int(len(ax_data) * 0.8)"
   ]
  },
  {
   "cell_type": "code",
   "execution_count": null,
   "metadata": {
    "colab": {},
    "colab_type": "code",
    "id": "8IDP3KUCJLaJ"
   },
   "outputs": [],
   "source": [
    "test_size = len(ax_data) - train_size"
   ]
  },
  {
   "cell_type": "code",
   "execution_count": null,
   "metadata": {
    "colab": {},
    "colab_type": "code",
    "id": "p0VeyBi3JLaO"
   },
   "outputs": [],
   "source": [
    "train, test = ax_data[0:train_size], ax_data[train_size:len(df)]"
   ]
  },
  {
   "cell_type": "code",
   "execution_count": null,
   "metadata": {
    "colab": {
     "base_uri": "https://localhost:8080/",
     "height": 143
    },
    "colab_type": "code",
    "id": "TYepiolZJLaV",
    "outputId": "afe178ea-2c48-461d-c12a-c2e37dd2a574"
   },
   "outputs": [],
   "source": [
    "train.tail()"
   ]
  },
  {
   "cell_type": "code",
   "execution_count": null,
   "metadata": {
    "colab": {
     "base_uri": "https://localhost:8080/",
     "height": 35
    },
    "colab_type": "code",
    "id": "fC5OswmsJLah",
    "outputId": "412a92c9-01d9-474c-eeca-f24ff38cc1fa"
   },
   "outputs": [],
   "source": [
    "print(len(train), len(test))"
   ]
  },
  {
   "cell_type": "code",
   "execution_count": null,
   "metadata": {
    "colab": {},
    "colab_type": "code",
    "id": "w4H3i3h9JLau"
   },
   "outputs": [],
   "source": [
    "def create_dataset(dataset,look_back=1):\n",
    "    Xs, ys = [], []\n",
    "    dataset = np.array(dataset)\n",
    "    for i in range(len(dataset) - look_back - 1):\n",
    "        v= dataset[i:(i + look_back)]\n",
    "        Xs.append(v)\n",
    "        ys.append(dataset[(i + look_back)])\n",
    "    return np.array(Xs), np.array(ys)"
   ]
  },
  {
   "cell_type": "code",
   "execution_count": null,
   "metadata": {
    "colab": {},
    "colab_type": "code",
    "id": "boTnvHpAJLa6"
   },
   "outputs": [],
   "source": [
    "look_back = 10"
   ]
  },
  {
   "cell_type": "code",
   "execution_count": null,
   "metadata": {
    "colab": {
     "base_uri": "https://localhost:8080/",
     "height": 35
    },
    "colab_type": "code",
    "id": "fevraxGeJLa_",
    "outputId": "85642d7e-e65c-4c70-f5e5-448a63df584e"
   },
   "outputs": [],
   "source": [
    "train.shape"
   ]
  },
  {
   "cell_type": "code",
   "execution_count": null,
   "metadata": {
    "colab": {
     "base_uri": "https://localhost:8080/",
     "height": 35
    },
    "colab_type": "code",
    "id": "8zPPf10KJLbG",
    "outputId": "badc912b-7a33-48a3-87d4-8dd8d35cd0ee"
   },
   "outputs": [],
   "source": [
    "X_train, y_train = create_dataset(train, look_back)\n",
    "X_test, y_test = create_dataset(test, look_back)\n",
    "\n",
    "print(X_train.shape, y_train.shape)"
   ]
  },
  {
   "cell_type": "code",
   "execution_count": null,
   "metadata": {
    "colab": {},
    "colab_type": "code",
    "id": "1qMsiEhQJLbN"
   },
   "outputs": [],
   "source": [
    "# # X_train[1:5]\n",
    "# X_test[1:5]"
   ]
  },
  {
   "cell_type": "code",
   "execution_count": null,
   "metadata": {
    "colab": {},
    "colab_type": "code",
    "id": "UdE-dnXvJLbR"
   },
   "outputs": [],
   "source": [
    "X_train = np.reshape(X_train, (X_train.shape[0],1,X_train.shape[1]))\n",
    "X_test = np.reshape(X_test, (X_test.shape[0],1,X_test.shape[1]))"
   ]
  },
  {
   "cell_type": "code",
   "execution_count": null,
   "metadata": {
    "colab": {},
    "colab_type": "code",
    "id": "oy1yWcFUJLbZ"
   },
   "outputs": [],
   "source": [
    "# X_train[-5:]"
   ]
  },
  {
   "cell_type": "markdown",
   "metadata": {
    "colab_type": "text",
    "id": "4nB79ttA-fkC"
   },
   "source": [
    "**Stationarity Test**"
   ]
  },
  {
   "cell_type": "code",
   "execution_count": null,
   "metadata": {
    "colab": {
     "base_uri": "https://localhost:8080/",
     "height": 53
    },
    "colab_type": "code",
    "id": "SuBTis26-cxW",
    "outputId": "4c3b7df3-008b-459a-dc8b-6f2ed3c5aabb"
   },
   "outputs": [],
   "source": [
    "stat, p = stats.normaltest(ax_data)\n",
    "print('Statistics=%.3f, p=%.3f' % (stat, p))\n",
    "alpha = 0.05\n",
    "if p > alpha:\n",
    "    print('Data looks Gaussian (fail to reject H0)')\n",
    "else:\n",
    "    print('Data does not look Gaussian (reject H0)')"
   ]
  },
  {
   "cell_type": "code",
   "execution_count": null,
   "metadata": {
    "colab": {
     "base_uri": "https://localhost:8080/",
     "height": 424
    },
    "colab_type": "code",
    "id": "jb7Wy3Tt-c1E",
    "outputId": "de6b789c-9ff3-491c-9d99-13bfae2ca267"
   },
   "outputs": [],
   "source": [
    "# sns.distplot(ax_data);\n",
    "# print( 'Kurtosis of normal distribution: {}'.format(stats.kurtosis(ax_data)))\n",
    "# print( 'Skewness of normal distribution: {}'.format(stats.skew(ax_data)))"
   ]
  },
  {
   "cell_type": "code",
   "execution_count": null,
   "metadata": {
    "colab": {},
    "colab_type": "code",
    "id": "wMRsu_QF-c41"
   },
   "outputs": [],
   "source": []
  },
  {
   "cell_type": "code",
   "execution_count": null,
   "metadata": {
    "colab": {},
    "colab_type": "code",
    "id": "NbFllEsF-c8d"
   },
   "outputs": [],
   "source": []
  },
  {
   "cell_type": "code",
   "execution_count": null,
   "metadata": {
    "colab": {},
    "colab_type": "code",
    "id": "SrYgIjs9-dGv"
   },
   "outputs": [],
   "source": []
  },
  {
   "cell_type": "code",
   "execution_count": null,
   "metadata": {
    "colab": {},
    "colab_type": "code",
    "id": "f6sopnd9-dKQ"
   },
   "outputs": [],
   "source": []
  },
  {
   "cell_type": "markdown",
   "metadata": {
    "colab_type": "text",
    "id": "1tIsSos6JLbg"
   },
   "source": [
    "# **Modelling Using LSTM**"
   ]
  },
  {
   "cell_type": "code",
   "execution_count": null,
   "metadata": {
    "colab": {},
    "colab_type": "code",
    "id": "icyNz8rNJLbi"
   },
   "outputs": [],
   "source": [
    "model = keras.Sequential()\n",
    "model.add(keras.layers.LSTM(units = 128, input_shape = (1,look_back)))\n"
   ]
  },
  {
   "cell_type": "code",
   "execution_count": null,
   "metadata": {
    "colab": {
     "base_uri": "https://localhost:8080/",
     "height": 413
    },
    "colab_type": "code",
    "id": "4m4KYseHJLbp",
    "outputId": "d08359df-6af5-4ebf-b2db-84bb1491fa58"
   },
   "outputs": [],
   "source": [
    "model.add(keras.layers.Dense(units=1))\n",
    "model.compile(loss='mean_squared_error',optimizer=keras.optimizers.Adam(0.001))\n",
    "model.fit(X_train, y_train, epochs = 10, batch_size=1, verbose=2)"
   ]
  },
  {
   "cell_type": "code",
   "execution_count": null,
   "metadata": {
    "colab": {},
    "colab_type": "code",
    "id": "xqehYog1JLbx"
   },
   "outputs": [],
   "source": [
    "train_predict = model.predict(X_train)\n",
    "test_predict = model.predict(X_test)\n"
   ]
  },
  {
   "cell_type": "code",
   "execution_count": null,
   "metadata": {
    "colab": {
     "base_uri": "https://localhost:8080/",
     "height": 197
    },
    "colab_type": "code",
    "id": "bpd83hvAQUg-",
    "outputId": "1c1dce91-faf8-424b-bc97-7b5421a40a4a"
   },
   "outputs": [],
   "source": [
    "test_predict[:10]"
   ]
  },
  {
   "cell_type": "code",
   "execution_count": null,
   "metadata": {
    "colab": {
     "base_uri": "https://localhost:8080/",
     "height": 89
    },
    "colab_type": "code",
    "id": "2ZUCZj-JJLb4",
    "outputId": "5fe58af1-9200-4403-ada5-422b81bdf719"
   },
   "outputs": [],
   "source": [
    "print('Train Mean Absolute Error:', keras.losses.MAE(y_train[0], train_predict[:,0]))\n",
    "print('Train Root Mean Squared Error:',np.sqrt(keras.losses.MSE(y_train[0], train_predict[:,0])))\n",
    "print('Test Mean Absolute Error:', keras.losses.MAE(y_test[0], test_predict[:,0]))\n",
    "print('Test Root Mean Squared Error:',np.sqrt(keras.losses.MSE(y_test[0], test_predict[:,0])))"
   ]
  },
  {
   "cell_type": "code",
   "execution_count": null,
   "metadata": {
    "colab": {
     "base_uri": "https://localhost:8080/",
     "height": 542
    },
    "colab_type": "code",
    "id": "oY8D-OBRJLcB",
    "outputId": "a32e990c-766d-4809-e0c1-fd3f4c00a636"
   },
   "outputs": [],
   "source": [
    "aa=[x for x in range(len(train_predict))]\n",
    "# plt.figure(figsize=(8,4))\n",
    "# plt.plot(aa, y_train, marker='.', label=\"actual\")\n",
    "# plt.plot(aa, train_predict, 'r', label=\"prediction\")\n",
    "# # plt.tick_params(left=False, labelleft=True) #remove ticks\n",
    "# #plt.tight_layout()\n",
    "# plt.subplots_adjust(left=0.07)\n",
    "# plt.ylabel('az(g)', size=15)\n",
    "# plt.xlabel('Time step', size=15)\n",
    "# plt.legend(fontsize=15)\n",
    "# plt.show();\n",
    "\n",
    "actual_plot = mean = go.Scatter(x=aa,y=y_train,name=\"actual\", line=dict(color='chartreuse'))\n",
    "train_predict_plot = go.Scatter(x=aa,y=train_predict,name=\"prediction\",line=dict(color='black'))\n",
    "layout = go.Layout(yaxis=dict(range=[1.0135,1.019]))\n",
    "fig4 = go.Figure(data = actual_plot,layout=layout)\n",
    "fig4.add_trace(train_predict_plot)\n",
    "fig4.show()"
   ]
  },
  {
   "cell_type": "code",
   "execution_count": null,
   "metadata": {
    "colab": {
     "base_uri": "https://localhost:8080/",
     "height": 542
    },
    "colab_type": "code",
    "id": "dx8U_I-nDhfN",
    "outputId": "615b94e2-71e2-40a3-a539-4651c5f71e12"
   },
   "outputs": [],
   "source": [
    "layout = go.Layout(yaxis=dict(range=[1.0135,1.019]))\n",
    "fig2 = go.Figure(data = original,layout=layout)\n",
    "fig2.add_trace(mean)\n",
    "fig2.add_trace(std)\n",
    "fig2.show()"
   ]
  },
  {
   "cell_type": "markdown",
   "metadata": {
    "colab_type": "text",
    "id": "gAijE8tQ8cRI"
   },
   "source": [
    "# **ARIMA**"
   ]
  },
  {
   "cell_type": "code",
   "execution_count": null,
   "metadata": {
    "colab": {},
    "colab_type": "code",
    "id": "A1k9-sAxQN_Y"
   },
   "outputs": [],
   "source": [
    "from statsmodels.tsa.stattools import adfuller\n",
    "from numpy import log \n",
    "from matplotlib.pylab import rcParams\n",
    "rcParams['figure.figsize']=(15,6)"
   ]
  },
  {
   "cell_type": "markdown",
   "metadata": {
    "colab_type": "text",
    "id": "wVFZDo78TaxB"
   },
   "source": [
    "**Stationarity Test**"
   ]
  },
  {
   "cell_type": "code",
   "execution_count": null,
   "metadata": {
    "colab": {},
    "colab_type": "code",
    "id": "PYXMGIeIS-Qx"
   },
   "outputs": [],
   "source": [
    "def stationarity_check(timeseries):\n",
    "  # Rolling statistics\n",
    "  rolling_mean = timeseries.rolling(window = 20, center=False).mean()\n",
    "  rolling_std = timeseries.rolling(window = 20, center=False).std()\n",
    "\n",
    "  #Plot rolling statistics\n",
    "  original = go.Scatter(x=timeseries.index,y=timeseries.values)\n",
    "  mean = go.Scatter(x=rolling_mean.index,y=rolling_mean.values, line=dict(color='chartreuse'))\n",
    "  std = go.Scatter(x=rolling_std.index,y=rolling_std.values, line=dict(color='black'))\n",
    "\n",
    "  print('Dickey Fuller Test:')\n",
    "  di_fu_test = adfuller(timeseries,autolag='AIC')\n",
    "  df_results = pd.Series(di_fu_test[0:4], index=['Test Statistic','p-value','#Lags Used','Number of Observations Used'])\n",
    "  for key,value in di_fu_test[4].items():\n",
    "        df_results['Critical Value (%s)'%key] = value\n",
    "  print (df_results)\n",
    " \n",
    "  return original,mean,std"
   ]
  },
  {
   "cell_type": "code",
   "execution_count": null,
   "metadata": {
    "colab": {
     "base_uri": "https://localhost:8080/",
     "height": 377
    },
    "colab_type": "code",
    "id": "HtUKsRH2Wald",
    "outputId": "1ca3260c-89f9-42dc-834d-a68667dd70b6"
   },
   "outputs": [],
   "source": [
    "original,mean,std = stationarity_check(ax_data)\n",
    "mean"
   ]
  },
  {
   "cell_type": "markdown",
   "metadata": {
    "colab_type": "text",
    "id": "vIkBlaK9KxUG"
   },
   "source": [
    "*Since the p-value is 0.01 i.e.99% confidence, the time series is stationary*"
   ]
  },
  {
   "cell_type": "code",
   "execution_count": null,
   "metadata": {
    "colab": {},
    "colab_type": "code",
    "id": "fu7inE0bkir9"
   },
   "outputs": [],
   "source": [
    "# ax_data.max()"
   ]
  },
  {
   "cell_type": "markdown",
   "metadata": {
    "colab_type": "text",
    "id": "xJ3gPXYlKwSP"
   },
   "source": []
  },
  {
   "cell_type": "code",
   "execution_count": null,
   "metadata": {
    "colab": {
     "base_uri": "https://localhost:8080/",
     "height": 542
    },
    "colab_type": "code",
    "id": "WNeBpG3wd6ok",
    "outputId": "615b94e2-71e2-40a3-a539-4651c5f71e12"
   },
   "outputs": [],
   "source": [
    "layout = go.Layout(yaxis=dict(range=[1.0135,1.019]))\n",
    "fig2 = go.Figure(data = original,layout=layout)\n",
    "fig2.add_trace(mean)\n",
    "fig2.add_trace(std)\n",
    "fig2.show()"
   ]
  },
  {
   "cell_type": "code",
   "execution_count": null,
   "metadata": {
    "colab": {},
    "colab_type": "code",
    "id": "lOyV564pWas6"
   },
   "outputs": [],
   "source": [
    "# fig = go.Figure()\n",
    "# fig.add_trace(go.Scatter(x = ax_data.index, y = ax_data.values))\n",
    "# fig.show()\n"
   ]
  },
  {
   "cell_type": "markdown",
   "metadata": {
    "colab_type": "text",
    "id": "taCqkwGY3u5F"
   },
   "source": [
    "**Apply non linear transformation for stationarity test**"
   ]
  },
  {
   "cell_type": "code",
   "execution_count": null,
   "metadata": {
    "colab": {},
    "colab_type": "code",
    "id": "8MoG4EBu3zZT"
   },
   "outputs": [],
   "source": [
    "az_data_log = pd.Series(np.log(az_data.values),az_data.index)"
   ]
  },
  {
   "cell_type": "code",
   "execution_count": null,
   "metadata": {
    "colab": {
     "base_uri": "https://localhost:8080/",
     "height": 179
    },
    "colab_type": "code",
    "id": "R-QwJahA37N_",
    "outputId": "e2b01f29-fa90-4157-d656-92d3d45dfc87"
   },
   "outputs": [],
   "source": [
    "original_log,mean_log,std_log = stationarity_check(az_data_log)"
   ]
  },
  {
   "cell_type": "code",
   "execution_count": null,
   "metadata": {
    "colab": {
     "base_uri": "https://localhost:8080/",
     "height": 542
    },
    "colab_type": "code",
    "id": "6i0gLFQW5L9h",
    "outputId": "e47ea800-27e8-4d9e-c2e6-2a9824520882"
   },
   "outputs": [],
   "source": [
    "fig2 = go.Figure(data = original_log)\n",
    "fig2.add_trace(mean_log)\n",
    "fig2.add_trace(std_log)\n",
    "fig2.show()"
   ]
  },
  {
   "cell_type": "markdown",
   "metadata": {
    "colab_type": "text",
    "id": "5dF1Swe-9V9l"
   },
   "source": [
    "**Differencing the series and Autocorrelation plot - Unnecessary**\n"
   ]
  },
  {
   "cell_type": "code",
   "execution_count": null,
   "metadata": {
    "colab": {},
    "colab_type": "code",
    "id": "Q86spNRP-8nN"
   },
   "outputs": [],
   "source": [
    "from statsmodels.graphics.tsaplots import plot_acf, plot_pacf"
   ]
  },
  {
   "cell_type": "code",
   "execution_count": null,
   "metadata": {
    "colab": {},
    "colab_type": "code",
    "id": "87qeT27qTCch"
   },
   "outputs": [],
   "source": [
    "plt.rcParams.update({'figure.figsize':(9,7), 'figure.dpi':120})"
   ]
  },
  {
   "cell_type": "code",
   "execution_count": null,
   "metadata": {
    "colab": {
     "base_uri": "https://localhost:8080/",
     "height": 729
    },
    "colab_type": "code",
    "id": "-jcOsZrw-OHb",
    "outputId": "0aa99f94-dc03-4f1a-b9a0-bd5d1a2a7927"
   },
   "outputs": [],
   "source": [
    "fig,axes = plt.subplots(3,2,sharex=True);\n",
    "\n",
    "diff_first = np.diff(ax_data3.values)\n",
    "diff_second = np.diff(diff_first)\n",
    "\n",
    "ax_data.values\n",
    "# diff_first \n",
    "# diff_second\n",
    "\n",
    "#Original Series\n",
    "axes[0,0].plot(ax_data.values); axes[0,0].set_title('Original Series');plot_acf(ax_data.values, ax = axes[0,1]);\n",
    "\n",
    "# # 1st Differencing\n",
    "# axes[1,0].plot(diff_first); axes[1,0].set_title('1st order differencing');plot_acf((diff_first), ax = axes[1,1]);\n",
    "\n",
    "# # 2nd Differencing\n",
    "# axes[2,0].plot(diff_second); axes[2,0].set_title('2nd order differencing');plot_acf((diff_second), ax = axes[2,1]);\n"
   ]
  },
  {
   "cell_type": "code",
   "execution_count": null,
   "metadata": {
    "colab": {},
    "colab_type": "code",
    "id": "8irrlSTg-jQv"
   },
   "outputs": [],
   "source": [
    "plt.rcParams.update({'figure.figsize':(9,3), 'figure.dpi':120})"
   ]
  },
  {
   "cell_type": "code",
   "execution_count": null,
   "metadata": {
    "colab": {
     "base_uri": "https://localhost:8080/",
     "height": 367
    },
    "colab_type": "code",
    "id": "UGgka7g-GNAa",
    "outputId": "c4847902-280a-435b-fda8-13d5062a4914"
   },
   "outputs": [],
   "source": [
    "fig, axes = plt.subplots(1, 2, sharex=True);axes[0].plot(diff_first); axes[0].set_title('1st Differencing');axes[1].set(ylim=(0,5))\n",
    "plot_pacf(diff_second, ax=axes[1]);"
   ]
  },
  {
   "cell_type": "code",
   "execution_count": null,
   "metadata": {
    "colab": {},
    "colab_type": "code",
    "id": "_GIPNweS35wt"
   },
   "outputs": [],
   "source": []
  },
  {
   "cell_type": "markdown",
   "metadata": {
    "colab_type": "text",
    "id": "MpP3lr1eSJir"
   },
   "source": [
    "**Plot ACF and PACF**"
   ]
  },
  {
   "cell_type": "code",
   "execution_count": null,
   "metadata": {
    "colab": {},
    "colab_type": "code",
    "id": "YKjPNSrsSRae"
   },
   "outputs": [],
   "source": [
    "from statsmodels.tsa.stattools import acf, pacf"
   ]
  },
  {
   "cell_type": "code",
   "execution_count": null,
   "metadata": {
    "colab": {
     "base_uri": "https://localhost:8080/",
     "height": 916
    },
    "colab_type": "code",
    "id": "e2RdyF8qSRe1",
    "outputId": "f76206f8-38b3-4fc6-e6e7-5e84f66a716b"
   },
   "outputs": [],
   "source": [
    "x = mean['y'][~np.isnan(mean['y'])]\n",
    "\n",
    "lag_auto_corr = acf(x, nlags=7)\n",
    "lag_par_auto_corr = pacf(x, nlags=7, method='ols')\n",
    "\n",
    "\n",
    "#Plot ACF: \n",
    "plt.subplot(121) \n",
    "plt.plot(lag_auto_corr)\n",
    "plt.axhline(y=0,linestyle='--',color='black')\n",
    "plt.axhline(y=-1.96/np.sqrt(len(az_data)),linestyle='--',color='black')\n",
    "plt.axhline(y=1.96/np.sqrt(len(az_data)),linestyle='--',color='black')\n",
    "plt.title('Autocorrelation Function')\n",
    "\n",
    "#Plot PACF:\n",
    "plt.subplot(122)\n",
    "plt.plot(lag_par_auto_corr)\n",
    "plt.axhline(y=0,linestyle='--',color='black')\n",
    "plt.axhline(y=-1.96/np.sqrt(len(az_data)),linestyle='--',color='black')\n",
    "plt.axhline(y=1.96/np.sqrt(len(az_data)),linestyle='--',color='black')\n",
    "plt.title('Partial Autocorrelation Function')\n",
    "plt.tight_layout()"
   ]
  },
  {
   "cell_type": "code",
   "execution_count": null,
   "metadata": {
    "colab": {},
    "colab_type": "code",
    "id": "3qKjmi4zSRiS"
   },
   "outputs": [],
   "source": []
  },
  {
   "cell_type": "code",
   "execution_count": null,
   "metadata": {
    "colab": {},
    "colab_type": "code",
    "id": "-684SntxSRlG"
   },
   "outputs": [],
   "source": []
  },
  {
   "cell_type": "markdown",
   "metadata": {
    "colab_type": "text",
    "id": "FXnbWyXk4a4-"
   },
   "source": [
    "#**ARIMA**"
   ]
  },
  {
   "cell_type": "code",
   "execution_count": null,
   "metadata": {
    "colab": {},
    "colab_type": "code",
    "id": "sWlY171x4gyM"
   },
   "outputs": [],
   "source": [
    "from statsmodels.tsa.arima_model import ARIMA"
   ]
  },
  {
   "cell_type": "code",
   "execution_count": null,
   "metadata": {
    "colab": {
     "base_uri": "https://localhost:8080/",
     "height": 1000
    },
    "colab_type": "code",
    "id": "LV9yxRNS4nPJ",
    "outputId": "dcc91ceb-6a18-4a55-fe0b-18d83efdf25e"
   },
   "outputs": [],
   "source": [
    "model = ARIMA(az_data.values, order = (5,1,5))\n",
    "model_fit = model.fit(disp=0,transparams=False)\n",
    "print(model_fit.summary())"
   ]
  },
  {
   "cell_type": "code",
   "execution_count": null,
   "metadata": {
    "colab": {
     "base_uri": "https://localhost:8080/",
     "height": 704
    },
    "colab_type": "code",
    "id": "_gNKJUvI7ydk",
    "outputId": "97fbb2e3-4a6e-4fe8-957e-87d6bdbc90ff"
   },
   "outputs": [],
   "source": [
    "model_fit.plot_predict(dynamic=False);\n"
   ]
  },
  {
   "cell_type": "code",
   "execution_count": null,
   "metadata": {
    "colab": {
     "base_uri": "https://localhost:8080/",
     "height": 413
    },
    "colab_type": "code",
    "id": "G8XCJc2y4v41",
    "outputId": "6b1e38b6-81b2-4569-d707-84c2cd05c9fe"
   },
   "outputs": [],
   "source": [
    "model = ARIMA(ax_data.values, order = (1,1,1))\n",
    "model_fit = model.fit(disp=0)\n",
    "print(model_fit.summary())"
   ]
  },
  {
   "cell_type": "code",
   "execution_count": null,
   "metadata": {
    "colab": {
     "base_uri": "https://localhost:8080/",
     "height": 343
    },
    "colab_type": "code",
    "id": "6WnDv8Yy44Pu",
    "outputId": "0765ca93-9b77-4e85-85b1-a805b6fca264"
   },
   "outputs": [],
   "source": [
    "model_fit.plot_predict(dynamic=False)\n",
    "plt.show()"
   ]
  },
  {
   "cell_type": "code",
   "execution_count": null,
   "metadata": {
    "colab": {},
    "colab_type": "code",
    "id": "xMv66xOd4-vK"
   },
   "outputs": [],
   "source": []
  },
  {
   "cell_type": "markdown",
   "metadata": {
    "colab_type": "text",
    "id": "Rdux_vQr7Yvj"
   },
   "source": [
    "**Rolling Mean and Rolling standard deviation**"
   ]
  },
  {
   "cell_type": "code",
   "execution_count": null,
   "metadata": {
    "colab": {},
    "colab_type": "code",
    "id": "2KwAXZAc70Y2"
   },
   "outputs": [],
   "source": [
    "from statsmodels.tsa.stattools import adfuller"
   ]
  },
  {
   "cell_type": "code",
   "execution_count": null,
   "metadata": {
    "colab": {},
    "colab_type": "code",
    "id": "N30AGtCb7cwx"
   },
   "outputs": [],
   "source": [
    "def check_stationarity(timeseries):\n",
    "    rolling_mean = timeseries.rolling(window=10,center=False).mean() \n",
    "    rolling_std = timeseries.rolling(window=10,center=False).std()\n",
    "\n",
    "    #Plot rolling statistics:\n",
    "    plt.ylim(0.99,1.01)\n",
    "    original = plt.plot(timeseries.index.to_pydatetime(), timeseries.values, color='blue',label='Original')\n",
    "    mean = plt.plot(rolling_mean.index.to_pydatetime(), rolling_mean.values, color='red', label='Rolling Mean')\n",
    "    std = plt.plot(rolling_std.index.to_pydatetime(), rolling_std.values, color='black', label = 'Rolling Std')\n",
    "    plt.legend(loc='best')\n",
    "    plt.title('Rolling Mean & Standard Deviation')\n",
    "    plt.show(block=False)\n",
    "    \n",
    "    #Perform Dickey-Fuller test:\n",
    "    print ('Results of Dickey-Fuller Test:')\n",
    "    dickey_fuller_test = adfuller(timeseries, autolag='AIC')\n",
    "    dfresults = pd.Series(dickey_fuller_test[0:4], index=['Test Statistic','p-value','#Lags Used','Number of Observations Used'])\n",
    "    for key,value in dickey_fuller_test[4].items():\n",
    "        dfresults['Critical Value (%s)'%key] = value\n",
    "    print (dfresults)"
   ]
  },
  {
   "cell_type": "code",
   "execution_count": null,
   "metadata": {
    "colab": {
     "base_uri": "https://localhost:8080/",
     "height": 529
    },
    "colab_type": "code",
    "id": "sP9EEpf374Qx",
    "outputId": "e4829821-e0fc-4838-efdb-4e37c3ad5d54"
   },
   "outputs": [],
   "source": [
    "check_stationarity(ax_data)"
   ]
  },
  {
   "cell_type": "code",
   "execution_count": null,
   "metadata": {
    "colab": {},
    "colab_type": "code",
    "id": "7yqx3pzy8cMk"
   },
   "outputs": [],
   "source": []
  }
 ],
 "metadata": {
  "accelerator": "TPU",
  "colab": {
   "collapsed_sections": [],
   "name": "Prediction_Collab .ipynb",
   "provenance": []
  },
  "kernelspec": {
   "display_name": "Python 3",
   "language": "python",
   "name": "python3"
  },
  "language_info": {
   "codemirror_mode": {
    "name": "ipython",
    "version": 3
   },
   "file_extension": ".py",
   "mimetype": "text/x-python",
   "name": "python",
   "nbconvert_exporter": "python",
   "pygments_lexer": "ipython3",
   "version": "3.7.4"
  }
 },
 "nbformat": 4,
 "nbformat_minor": 1
}
